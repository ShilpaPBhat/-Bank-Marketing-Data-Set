{
 "cells": [
  {
   "cell_type": "markdown",
   "metadata": {},
   "source": [
    "   ### About Dataset\n",
    "   \n",
    "   The data is related with direct marketing campaigns of a Portuguese banking institution. \n",
    "   The marketing campaigns were based on phone calls. Often, more than one contact to the same client was required, \n",
    "   in order to access if the product (bank term deposit) would be (or not) subscribed. \n",
    " \n",
    "  ### Features:\n",
    "   #### Bank client data:\n",
    "   * 1 - age (numeric)\n",
    "   * 2 - job : type of job (categorical: \"admin.\",\"unknown\",\"unemployed\",\"management\",\"housemaid\",\"entrepreneur\",\"student\",\"blue-collar\",\"self employed\",\"retired\",\"technician\",\"services\") \n",
    "   * 3 - marital :\n",
    "       marital status (categorical: \"married\",\"divorced\",\"single\"; note: \"divorced\" means divorced or widowed)\n",
    "   * 4 - education (categorical: \"unknown\",\"secondary\",\"primary\",\"tertiary\")\n",
    "   * 5 - default: has credit in default? (binary: \"yes\",\"no\")\n",
    "   * 6 - balance: average yearly balance, in euros (numeric) \n",
    "   * 7 - housing: has housing loan? (binary: \"yes\",\"no\")\n",
    "   * 8 - loan: has personal loan? (binary: \"yes\",\"no\")\n",
    "#### Related with the last contact of the current campaign:\n",
    "   * 9 - contact: contact communication type (categorical: \"unknown\",\"telephone\",\"cellular\") \n",
    "   * 10 - day: last contact day of the month (numeric)\n",
    "   * 11 - month: last contact month of year (categorical: \"jan\", \"feb\", \"mar\", ..., \"nov\", \"dec\")\n",
    "   * 12 - duration: last contact duration, in seconds (numeric)\n",
    "#### Other attributes:\n",
    "   * 13 - campaign: number of contacts performed during this campaign and for this client (numeric, includes last contact)  \n",
    "   * 14 - pdays: number of days that passed by after the client was last contacted from a previous campaign (numeric,\n",
    "   -1 means client was not previously contacted)\n",
    "   * 15 - previous: number of contacts performed before this campaign and for this client (numeric)\n",
    "   * 16 - poutcome: outcome of the previous marketing campaign (categorical: \"unknown\",\"other\",\"failure\",\"success\")\n",
    "\n",
    "  #### Output variable (desired target):\n",
    "   * 17 - y - has the client subscribed a term deposit? (binary: \"yes\",\"no\")"
   ]
  },
  {
   "cell_type": "markdown",
   "metadata": {},
   "source": [
    "### Loading required libraries"
   ]
  },
  {
   "cell_type": "code",
   "execution_count": 1,
   "metadata": {
    "scrolled": true
   },
   "outputs": [],
   "source": [
    "import pandas as pd\n",
    "import numpy as np\n",
    "import matplotlib.pyplot as plt\n",
    "import warnings\n",
    "warnings.filterwarnings(\"ignore\")\n",
    "import seaborn as sns\n",
    "from sklearn.model_selection import train_test_split\n",
    "from sklearn.preprocessing import StandardScaler\n",
    "from sklearn.model_selection import GridSearchCV\n",
    "from sklearn.preprocessing import OneHotEncoder\n",
    "from sklearn.metrics import classification_report, confusion_matrix\n",
    "from sklearn import metrics\n",
    "\n",
    "np.set_printoptions(precision=4)"
   ]
  },
  {
   "cell_type": "markdown",
   "metadata": {},
   "source": [
    "### Loading Data"
   ]
  },
  {
   "cell_type": "code",
   "execution_count": 2,
   "metadata": {},
   "outputs": [
    {
     "name": "stdout",
     "output_type": "stream",
     "text": [
      "(4521, 17)\n"
     ]
    },
    {
     "data": {
      "text/html": [
       "<div>\n",
       "<style scoped>\n",
       "    .dataframe tbody tr th:only-of-type {\n",
       "        vertical-align: middle;\n",
       "    }\n",
       "\n",
       "    .dataframe tbody tr th {\n",
       "        vertical-align: top;\n",
       "    }\n",
       "\n",
       "    .dataframe thead th {\n",
       "        text-align: right;\n",
       "    }\n",
       "</style>\n",
       "<table border=\"1\" class=\"dataframe\">\n",
       "  <thead>\n",
       "    <tr style=\"text-align: right;\">\n",
       "      <th></th>\n",
       "      <th>age</th>\n",
       "      <th>job</th>\n",
       "      <th>marital</th>\n",
       "      <th>education</th>\n",
       "      <th>default</th>\n",
       "      <th>balance</th>\n",
       "      <th>housing</th>\n",
       "      <th>loan</th>\n",
       "      <th>contact</th>\n",
       "      <th>day</th>\n",
       "      <th>month</th>\n",
       "      <th>duration</th>\n",
       "      <th>campaign</th>\n",
       "      <th>pdays</th>\n",
       "      <th>previous</th>\n",
       "      <th>poutcome</th>\n",
       "      <th>y</th>\n",
       "    </tr>\n",
       "  </thead>\n",
       "  <tbody>\n",
       "    <tr>\n",
       "      <td>0</td>\n",
       "      <td>30</td>\n",
       "      <td>unemployed</td>\n",
       "      <td>married</td>\n",
       "      <td>primary</td>\n",
       "      <td>no</td>\n",
       "      <td>1787</td>\n",
       "      <td>no</td>\n",
       "      <td>no</td>\n",
       "      <td>cellular</td>\n",
       "      <td>19</td>\n",
       "      <td>oct</td>\n",
       "      <td>79</td>\n",
       "      <td>1</td>\n",
       "      <td>-1</td>\n",
       "      <td>0</td>\n",
       "      <td>unknown</td>\n",
       "      <td>no</td>\n",
       "    </tr>\n",
       "    <tr>\n",
       "      <td>1</td>\n",
       "      <td>33</td>\n",
       "      <td>services</td>\n",
       "      <td>married</td>\n",
       "      <td>secondary</td>\n",
       "      <td>no</td>\n",
       "      <td>4789</td>\n",
       "      <td>yes</td>\n",
       "      <td>yes</td>\n",
       "      <td>cellular</td>\n",
       "      <td>11</td>\n",
       "      <td>may</td>\n",
       "      <td>220</td>\n",
       "      <td>1</td>\n",
       "      <td>339</td>\n",
       "      <td>4</td>\n",
       "      <td>failure</td>\n",
       "      <td>no</td>\n",
       "    </tr>\n",
       "    <tr>\n",
       "      <td>2</td>\n",
       "      <td>35</td>\n",
       "      <td>management</td>\n",
       "      <td>single</td>\n",
       "      <td>tertiary</td>\n",
       "      <td>no</td>\n",
       "      <td>1350</td>\n",
       "      <td>yes</td>\n",
       "      <td>no</td>\n",
       "      <td>cellular</td>\n",
       "      <td>16</td>\n",
       "      <td>apr</td>\n",
       "      <td>185</td>\n",
       "      <td>1</td>\n",
       "      <td>330</td>\n",
       "      <td>1</td>\n",
       "      <td>failure</td>\n",
       "      <td>no</td>\n",
       "    </tr>\n",
       "    <tr>\n",
       "      <td>3</td>\n",
       "      <td>30</td>\n",
       "      <td>management</td>\n",
       "      <td>married</td>\n",
       "      <td>tertiary</td>\n",
       "      <td>no</td>\n",
       "      <td>1476</td>\n",
       "      <td>yes</td>\n",
       "      <td>yes</td>\n",
       "      <td>unknown</td>\n",
       "      <td>3</td>\n",
       "      <td>jun</td>\n",
       "      <td>199</td>\n",
       "      <td>4</td>\n",
       "      <td>-1</td>\n",
       "      <td>0</td>\n",
       "      <td>unknown</td>\n",
       "      <td>no</td>\n",
       "    </tr>\n",
       "    <tr>\n",
       "      <td>4</td>\n",
       "      <td>59</td>\n",
       "      <td>blue-collar</td>\n",
       "      <td>married</td>\n",
       "      <td>secondary</td>\n",
       "      <td>no</td>\n",
       "      <td>0</td>\n",
       "      <td>yes</td>\n",
       "      <td>no</td>\n",
       "      <td>unknown</td>\n",
       "      <td>5</td>\n",
       "      <td>may</td>\n",
       "      <td>226</td>\n",
       "      <td>1</td>\n",
       "      <td>-1</td>\n",
       "      <td>0</td>\n",
       "      <td>unknown</td>\n",
       "      <td>no</td>\n",
       "    </tr>\n",
       "  </tbody>\n",
       "</table>\n",
       "</div>"
      ],
      "text/plain": [
       "   age          job  marital  education default  balance housing loan  \\\n",
       "0   30   unemployed  married    primary      no     1787      no   no   \n",
       "1   33     services  married  secondary      no     4789     yes  yes   \n",
       "2   35   management   single   tertiary      no     1350     yes   no   \n",
       "3   30   management  married   tertiary      no     1476     yes  yes   \n",
       "4   59  blue-collar  married  secondary      no        0     yes   no   \n",
       "\n",
       "    contact  day month  duration  campaign  pdays  previous poutcome   y  \n",
       "0  cellular   19   oct        79         1     -1         0  unknown  no  \n",
       "1  cellular   11   may       220         1    339         4  failure  no  \n",
       "2  cellular   16   apr       185         1    330         1  failure  no  \n",
       "3   unknown    3   jun       199         4     -1         0  unknown  no  \n",
       "4   unknown    5   may       226         1     -1         0  unknown  no  "
      ]
     },
     "execution_count": 2,
     "metadata": {},
     "output_type": "execute_result"
    }
   ],
   "source": [
    "data = pd.read_csv('bank/bank.csv', sep= ';')\n",
    "print(data.shape)\n",
    "data.head()"
   ]
  },
  {
   "cell_type": "code",
   "execution_count": 3,
   "metadata": {},
   "outputs": [
    {
     "name": "stdout",
     "output_type": "stream",
     "text": [
      "<class 'pandas.core.frame.DataFrame'>\n",
      "RangeIndex: 4521 entries, 0 to 4520\n",
      "Data columns (total 17 columns):\n",
      "age          4521 non-null int64\n",
      "job          4521 non-null object\n",
      "marital      4521 non-null object\n",
      "education    4521 non-null object\n",
      "default      4521 non-null object\n",
      "balance      4521 non-null int64\n",
      "housing      4521 non-null object\n",
      "loan         4521 non-null object\n",
      "contact      4521 non-null object\n",
      "day          4521 non-null int64\n",
      "month        4521 non-null object\n",
      "duration     4521 non-null int64\n",
      "campaign     4521 non-null int64\n",
      "pdays        4521 non-null int64\n",
      "previous     4521 non-null int64\n",
      "poutcome     4521 non-null object\n",
      "y            4521 non-null object\n",
      "dtypes: int64(7), object(10)\n",
      "memory usage: 600.6+ KB\n"
     ]
    }
   ],
   "source": [
    "data.info()"
   ]
  },
  {
   "cell_type": "code",
   "execution_count": 4,
   "metadata": {},
   "outputs": [
    {
     "data": {
      "text/plain": [
       "no     4000\n",
       "yes     521\n",
       "Name: y, dtype: int64"
      ]
     },
     "execution_count": 4,
     "metadata": {},
     "output_type": "execute_result"
    }
   ],
   "source": [
    "data['y'].value_counts()"
   ]
  },
  {
   "cell_type": "code",
   "execution_count": 5,
   "metadata": {},
   "outputs": [
    {
     "data": {
      "text/plain": [
       "Text(0.5, 0, 'Target Variable')"
      ]
     },
     "execution_count": 5,
     "metadata": {},
     "output_type": "execute_result"
    },
    {
     "data": {
      "image/png": "[encoded data removed]",
      "text/plain": [
       "<Figure size 432x288 with 1 Axes>"
      ]
     },
     "metadata": {
      "needs_background": "light"
     },
     "output_type": "display_data"
    }
   ],
   "source": [
    "sns.countplot(data['y'])\n",
    "plt.xlabel('Target Variable')"
   ]
  },
  {
   "cell_type": "code",
   "execution_count": 6,
   "metadata": {},
   "outputs": [
    {
     "data": {
      "text/plain": [
       "0    4000\n",
       "1     521\n",
       "Name: y, dtype: int64"
      ]
     },
     "execution_count": 6,
     "metadata": {},
     "output_type": "execute_result"
    }
   ],
   "source": [
    "data['y'] = np.where(data['y'] == 'yes', 1,0)\n",
    "data['y'].value_counts()"
   ]
  },
  {
   "cell_type": "code",
   "execution_count": 7,
   "metadata": {},
   "outputs": [],
   "source": [
    "data_copy = data.copy()"
   ]
  },
  {
   "cell_type": "code",
   "execution_count": 8,
   "metadata": {},
   "outputs": [],
   "source": [
    "data_copy['job'] = data_copy['job'].astype('category').cat.codes\n",
    "data_copy['marital'] = data_copy['marital'].astype('category').cat.codes\n",
    "data_copy['education'] = data_copy['education'].astype('category').cat.codes\n",
    "data_copy['contact'] = data_copy['contact'].astype('category').cat.codes\n",
    "data_copy['poutcome'] = data_copy['poutcome'].astype('category').cat.codes\n",
    "data_copy['month'] = data_copy['month'].astype('category').cat.codes\n",
    "data_copy['default'] = data_copy['default'].astype('category').cat.codes\n",
    "data_copy['loan'] = data_copy['loan'].astype('category').cat.codes\n",
    "data_copy['housing'] = data_copy['housing'].astype('category').cat.codes"
   ]
  },
  {
   "cell_type": "code",
   "execution_count": 9,
   "metadata": {},
   "outputs": [],
   "source": [
    "def count_plotter(independent, dependent, df):\n",
    "    plt.figure(figsize=(21,7))\n",
    "    sns.countplot(df[independent], hue = df[dependent])\n",
    "    plt.title('Count Plot of ' + independent + ' vs target variable')"
   ]
  },
  {
   "cell_type": "code",
   "execution_count": 10,
   "metadata": {},
   "outputs": [
    {
     "data": {
      "image/png": "[encoded data removed]",
      "text/plain": [
       "<Figure size 1512x504 with 1 Axes>"
      ]
     },
     "metadata": {
      "needs_background": "light"
     },
     "output_type": "display_data"
    }
   ],
   "source": [
    "count_plotter('age', 'y', data)"
   ]
  },
  {
   "cell_type": "code",
   "execution_count": 11,
   "metadata": {},
   "outputs": [
    {
     "data": {
      "image/png": "[encoded data removed]",
      "text/plain": [
       "<Figure size 1512x504 with 1 Axes>"
      ]
     },
     "metadata": {
      "needs_background": "light"
     },
     "output_type": "display_data"
    }
   ],
   "source": [
    "count_plotter('job', 'y', data)"
   ]
  },
  {
   "cell_type": "code",
   "execution_count": 12,
   "metadata": {},
   "outputs": [
    {
     "data": {
      "image/png": "[encoded data removed]",
      "text/plain": [
       "<Figure size 1512x504 with 1 Axes>"
      ]
     },
     "metadata": {
      "needs_background": "light"
     },
     "output_type": "display_data"
    }
   ],
   "source": [
    "count_plotter('marital', 'y', data)"
   ]
  },
  {
   "cell_type": "code",
   "execution_count": 13,
   "metadata": {},
   "outputs": [
    {
     "data": {
      "image/png": "[encoded data removed]",
      "text/plain": [
       "<Figure size 1512x504 with 1 Axes>"
      ]
     },
     "metadata": {
      "needs_background": "light"
     },
     "output_type": "display_data"
    }
   ],
   "source": [
    "count_plotter('education', 'y', data)"
   ]
  },
  {
   "cell_type": "code",
   "execution_count": 14,
   "metadata": {},
   "outputs": [
    {
     "data": {
      "image/png": "[encoded data removed]",
      "text/plain": [
       "<Figure size 1512x504 with 1 Axes>"
      ]
     },
     "metadata": {
      "needs_background": "light"
     },
     "output_type": "display_data"
    }
   ],
   "source": [
    "count_plotter('default', 'y', data)"
   ]
  },
  {
   "cell_type": "code",
   "execution_count": 16,
   "metadata": {},
   "outputs": [
    {
     "data": {
      "image/png": "[encoded data removed]",
      "text/plain": [
       "<Figure size 1512x504 with 1 Axes>"
      ]
     },
     "metadata": {
      "needs_background": "light"
     },
     "output_type": "display_data"
    }
   ],
   "source": [
    "count_plotter('housing', 'y', data)"
   ]
  },
  {
   "cell_type": "code",
   "execution_count": 17,
   "metadata": {},
   "outputs": [
    {
     "data": {
      "image/png": "[encoded data removed]",
      "text/plain": [
       "<Figure size 1512x504 with 1 Axes>"
      ]
     },
     "metadata": {
      "needs_background": "light"
     },
     "output_type": "display_data"
    }
   ],
   "source": [
    "count_plotter('loan', 'y', data)"
   ]
  },
  {
   "cell_type": "code",
   "execution_count": 18,
   "metadata": {},
   "outputs": [
    {
     "data": {
      "image/png": "[encoded data removed]",
      "text/plain": [
       "<Figure size 1512x504 with 1 Axes>"
      ]
     },
     "metadata": {
      "needs_background": "light"
     },
     "output_type": "display_data"
    }
   ],
   "source": [
    "count_plotter('contact', 'y', data)"
   ]
  },
  {
   "cell_type": "code",
   "execution_count": 19,
   "metadata": {},
   "outputs": [
    {
     "data": {
      "image/png": "[encoded data removed]",
      "text/plain": [
       "<Figure size 1512x504 with 1 Axes>"
      ]
     },
     "metadata": {
      "needs_background": "light"
     },
     "output_type": "display_data"
    }
   ],
   "source": [
    "count_plotter('day', 'y', data)"
   ]
  },
  {
   "cell_type": "code",
   "execution_count": 20,
   "metadata": {},
   "outputs": [
    {
     "data": {
      "image/png": "[encoded data removed]",
      "text/plain": [
       "<Figure size 1512x504 with 1 Axes>"
      ]
     },
     "metadata": {
      "needs_background": "light"
     },
     "output_type": "display_data"
    }
   ],
   "source": [
    "count_plotter('month', 'y', data)"
   ]
  },
  {
   "cell_type": "code",
   "execution_count": 21,
   "metadata": {},
   "outputs": [
    {
     "data": {
      "image/png": "[encoded data removed]",
      "text/plain": [
       "<Figure size 1512x504 with 1 Axes>"
      ]
     },
     "metadata": {
      "needs_background": "light"
     },
     "output_type": "display_data"
    }
   ],
   "source": [
    "count_plotter('duration', 'y', data)"
   ]
  },
  {
   "cell_type": "code",
   "execution_count": 22,
   "metadata": {},
   "outputs": [
    {
     "data": {
      "image/png": "[encoded data removed]",
      "text/plain": [
       "<Figure size 1512x504 with 1 Axes>"
      ]
     },
     "metadata": {
      "needs_background": "light"
     },
     "output_type": "display_data"
    }
   ],
   "source": [
    "count_plotter('campaign', 'y', data)"
   ]
  },
  {
   "cell_type": "code",
   "execution_count": 24,
   "metadata": {},
   "outputs": [
    {
     "data": {
      "image/png": "[encoded data removed]",
      "text/plain": [
       "<Figure size 1512x504 with 1 Axes>"
      ]
     },
     "metadata": {
      "needs_background": "light"
     },
     "output_type": "display_data"
    }
   ],
   "source": [
    "count_plotter('previous', 'y', data)"
   ]
  },
  {
   "cell_type": "code",
   "execution_count": 25,
   "metadata": {},
   "outputs": [
    {
     "data": {
      "image/png": "[encoded data removed]",
      "text/plain": [
       "<Figure size 1512x504 with 1 Axes>"
      ]
     },
     "metadata": {
      "needs_background": "light"
     },
     "output_type": "display_data"
    }
   ],
   "source": [
    "count_plotter('poutcome', 'y', data)"
   ]
  },
  {
   "cell_type": "markdown",
   "metadata": {},
   "source": [
    "### Feature Importance"
   ]
  },
  {
   "cell_type": "code",
   "execution_count": 26,
   "metadata": {
    "scrolled": false
   },
   "outputs": [
    {
     "data": {
      "text/plain": [
       "([<matplotlib.axis.YTick at 0x1a19f20990>,\n",
       "  <matplotlib.axis.YTick at 0x1a19f20150>,\n",
       "  <matplotlib.axis.YTick at 0x1a19f18d10>,\n",
       "  <matplotlib.axis.YTick at 0x1a17e85210>,\n",
       "  <matplotlib.axis.YTick at 0x1a1a26f5d0>,\n",
       "  <matplotlib.axis.YTick at 0x1a1a26fbd0>,\n",
       "  <matplotlib.axis.YTick at 0x1a1a279290>,\n",
       "  <matplotlib.axis.YTick at 0x1a1a2798d0>,\n",
       "  <matplotlib.axis.YTick at 0x1a1a279f10>,\n",
       "  <matplotlib.axis.YTick at 0x1a1a27c590>,\n",
       "  <matplotlib.axis.YTick at 0x1a1a27cb90>,\n",
       "  <matplotlib.axis.YTick at 0x1a1a27c490>,\n",
       "  <matplotlib.axis.YTick at 0x1a1a279110>,\n",
       "  <matplotlib.axis.YTick at 0x1a1a284210>,\n",
       "  <matplotlib.axis.YTick at 0x1a1a2848d0>,\n",
       "  <matplotlib.axis.YTick at 0x1a1a284f10>],\n",
       " <a list of 16 Text yticklabel objects>)"
      ]
     },
     "execution_count": 26,
     "metadata": {},
     "output_type": "execute_result"
    },
    {
     "data": {
      "image/png": "[encoded data removed]",
      "text/plain": [
       "<Figure size 432x288 with 1 Axes>"
      ]
     },
     "metadata": {
      "needs_background": "light"
     },
     "output_type": "display_data"
    }
   ],
   "source": [
    "from sklearn.tree import DecisionTreeClassifier\n",
    "clf = DecisionTreeClassifier()\n",
    "clf.fit(data_copy.drop('y', 1), data_copy['y'].values.ravel())\n",
    "importance = clf.feature_importances_\n",
    "feature_names = data_copy.drop('y', axis=1).columns\n",
    "\n",
    "plt.barh(range(len(np.argsort(importance))), importance[np.argsort(importance)])\n",
    "plt.yticks(range(len(np.argsort(importance))), feature_names[np.argsort(importance)])\n"
   ]
  },
  {
   "cell_type": "markdown",
   "metadata": {},
   "source": [
    "We are considering following features based on the above graph:\n",
    "* duration\n",
    "* day\n",
    "* balance\n",
    "* age\n",
    "* pdays\n",
    "* month\n",
    "* poutcome\n",
    "* job"
   ]
  },
  {
   "cell_type": "code",
   "execution_count": 27,
   "metadata": {},
   "outputs": [
    {
     "data": {
      "text/plain": [
       "Index(['duration', 'balance', 'age', 'day', 'pdays', 'y'], dtype='object')"
      ]
     },
     "execution_count": 27,
     "metadata": {},
     "output_type": "execute_result"
    }
   ],
   "source": [
    "data_filtered = data[['duration', 'balance', 'month', 'age', 'day', 'pdays', 'poutcome', 'job', 'y']]\n",
    "    \n",
    "num_cols = data_filtered.columns[data_filtered.dtypes.apply(lambda c: np.issubdtype(c, np.number))]\n",
    "num_cols"
   ]
  },
  {
   "cell_type": "markdown",
   "metadata": {},
   "source": [
    "### Splitting data into Dependent and Independent variable"
   ]
  },
  {
   "cell_type": "code",
   "execution_count": 28,
   "metadata": {},
   "outputs": [],
   "source": [
    "data_y = data_filtered['y'].values.ravel()\n",
    "data_x = data_filtered.drop('y', 1)"
   ]
  },
  {
   "cell_type": "code",
   "execution_count": 29,
   "metadata": {},
   "outputs": [
    {
     "data": {
      "text/plain": [
       "array([0, 1])"
      ]
     },
     "execution_count": 29,
     "metadata": {},
     "output_type": "execute_result"
    }
   ],
   "source": [
    "np.unique(data_y)"
   ]
  },
  {
   "cell_type": "markdown",
   "metadata": {},
   "source": [
    "### Creating dummies for categorical variables"
   ]
  },
  {
   "cell_type": "code",
   "execution_count": 30,
   "metadata": {},
   "outputs": [
    {
     "data": {
      "text/html": [
       "<div>\n",
       "<style scoped>\n",
       "    .dataframe tbody tr th:only-of-type {\n",
       "        vertical-align: middle;\n",
       "    }\n",
       "\n",
       "    .dataframe tbody tr th {\n",
       "        vertical-align: top;\n",
       "    }\n",
       "\n",
       "    .dataframe thead th {\n",
       "        text-align: right;\n",
       "    }\n",
       "</style>\n",
       "<table border=\"1\" class=\"dataframe\">\n",
       "  <thead>\n",
       "    <tr style=\"text-align: right;\">\n",
       "      <th></th>\n",
       "      <th>duration</th>\n",
       "      <th>balance</th>\n",
       "      <th>age</th>\n",
       "      <th>day</th>\n",
       "      <th>pdays</th>\n",
       "      <th>month_apr</th>\n",
       "      <th>month_aug</th>\n",
       "      <th>month_dec</th>\n",
       "      <th>month_feb</th>\n",
       "      <th>month_jan</th>\n",
       "      <th>...</th>\n",
       "      <th>job_entrepreneur</th>\n",
       "      <th>job_housemaid</th>\n",
       "      <th>job_management</th>\n",
       "      <th>job_retired</th>\n",
       "      <th>job_self-employed</th>\n",
       "      <th>job_services</th>\n",
       "      <th>job_student</th>\n",
       "      <th>job_technician</th>\n",
       "      <th>job_unemployed</th>\n",
       "      <th>job_unknown</th>\n",
       "    </tr>\n",
       "  </thead>\n",
       "  <tbody>\n",
       "    <tr>\n",
       "      <td>0</td>\n",
       "      <td>79</td>\n",
       "      <td>1787</td>\n",
       "      <td>30</td>\n",
       "      <td>19</td>\n",
       "      <td>-1</td>\n",
       "      <td>0</td>\n",
       "      <td>0</td>\n",
       "      <td>0</td>\n",
       "      <td>0</td>\n",
       "      <td>0</td>\n",
       "      <td>...</td>\n",
       "      <td>0</td>\n",
       "      <td>0</td>\n",
       "      <td>0</td>\n",
       "      <td>0</td>\n",
       "      <td>0</td>\n",
       "      <td>0</td>\n",
       "      <td>0</td>\n",
       "      <td>0</td>\n",
       "      <td>1</td>\n",
       "      <td>0</td>\n",
       "    </tr>\n",
       "    <tr>\n",
       "      <td>1</td>\n",
       "      <td>220</td>\n",
       "      <td>4789</td>\n",
       "      <td>33</td>\n",
       "      <td>11</td>\n",
       "      <td>339</td>\n",
       "      <td>0</td>\n",
       "      <td>0</td>\n",
       "      <td>0</td>\n",
       "      <td>0</td>\n",
       "      <td>0</td>\n",
       "      <td>...</td>\n",
       "      <td>0</td>\n",
       "      <td>0</td>\n",
       "      <td>0</td>\n",
       "      <td>0</td>\n",
       "      <td>0</td>\n",
       "      <td>1</td>\n",
       "      <td>0</td>\n",
       "      <td>0</td>\n",
       "      <td>0</td>\n",
       "      <td>0</td>\n",
       "    </tr>\n",
       "    <tr>\n",
       "      <td>2</td>\n",
       "      <td>185</td>\n",
       "      <td>1350</td>\n",
       "      <td>35</td>\n",
       "      <td>16</td>\n",
       "      <td>330</td>\n",
       "      <td>1</td>\n",
       "      <td>0</td>\n",
       "      <td>0</td>\n",
       "      <td>0</td>\n",
       "      <td>0</td>\n",
       "      <td>...</td>\n",
       "      <td>0</td>\n",
       "      <td>0</td>\n",
       "      <td>1</td>\n",
       "      <td>0</td>\n",
       "      <td>0</td>\n",
       "      <td>0</td>\n",
       "      <td>0</td>\n",
       "      <td>0</td>\n",
       "      <td>0</td>\n",
       "      <td>0</td>\n",
       "    </tr>\n",
       "    <tr>\n",
       "      <td>3</td>\n",
       "      <td>199</td>\n",
       "      <td>1476</td>\n",
       "      <td>30</td>\n",
       "      <td>3</td>\n",
       "      <td>-1</td>\n",
       "      <td>0</td>\n",
       "      <td>0</td>\n",
       "      <td>0</td>\n",
       "      <td>0</td>\n",
       "      <td>0</td>\n",
       "      <td>...</td>\n",
       "      <td>0</td>\n",
       "      <td>0</td>\n",
       "      <td>1</td>\n",
       "      <td>0</td>\n",
       "      <td>0</td>\n",
       "      <td>0</td>\n",
       "      <td>0</td>\n",
       "      <td>0</td>\n",
       "      <td>0</td>\n",
       "      <td>0</td>\n",
       "    </tr>\n",
       "    <tr>\n",
       "      <td>4</td>\n",
       "      <td>226</td>\n",
       "      <td>0</td>\n",
       "      <td>59</td>\n",
       "      <td>5</td>\n",
       "      <td>-1</td>\n",
       "      <td>0</td>\n",
       "      <td>0</td>\n",
       "      <td>0</td>\n",
       "      <td>0</td>\n",
       "      <td>0</td>\n",
       "      <td>...</td>\n",
       "      <td>0</td>\n",
       "      <td>0</td>\n",
       "      <td>0</td>\n",
       "      <td>0</td>\n",
       "      <td>0</td>\n",
       "      <td>0</td>\n",
       "      <td>0</td>\n",
       "      <td>0</td>\n",
       "      <td>0</td>\n",
       "      <td>0</td>\n",
       "    </tr>\n",
       "  </tbody>\n",
       "</table>\n",
       "<p>5 rows × 33 columns</p>\n",
       "</div>"
      ],
      "text/plain": [
       "   duration  balance  age  day  pdays  month_apr  month_aug  month_dec  \\\n",
       "0        79     1787   30   19     -1          0          0          0   \n",
       "1       220     4789   33   11    339          0          0          0   \n",
       "2       185     1350   35   16    330          1          0          0   \n",
       "3       199     1476   30    3     -1          0          0          0   \n",
       "4       226        0   59    5     -1          0          0          0   \n",
       "\n",
       "   month_feb  month_jan  ...  job_entrepreneur  job_housemaid  job_management  \\\n",
       "0          0          0  ...                 0              0               0   \n",
       "1          0          0  ...                 0              0               0   \n",
       "2          0          0  ...                 0              0               1   \n",
       "3          0          0  ...                 0              0               1   \n",
       "4          0          0  ...                 0              0               0   \n",
       "\n",
       "   job_retired  job_self-employed  job_services  job_student  job_technician  \\\n",
       "0            0                  0             0            0               0   \n",
       "1            0                  0             1            0               0   \n",
       "2            0                  0             0            0               0   \n",
       "3            0                  0             0            0               0   \n",
       "4            0                  0             0            0               0   \n",
       "\n",
       "   job_unemployed  job_unknown  \n",
       "0               1            0  \n",
       "1               0            0  \n",
       "2               0            0  \n",
       "3               0            0  \n",
       "4               0            0  \n",
       "\n",
       "[5 rows x 33 columns]"
      ]
     },
     "execution_count": 30,
     "metadata": {},
     "output_type": "execute_result"
    }
   ],
   "source": [
    "data_x = pd.get_dummies(data_x, sparse=True)\n",
    "data_x.head()"
   ]
  },
  {
   "cell_type": "markdown",
   "metadata": {},
   "source": [
    "### Splitting data into train and test"
   ]
  },
  {
   "cell_type": "code",
   "execution_count": 31,
   "metadata": {},
   "outputs": [
    {
     "name": "stdout",
     "output_type": "stream",
     "text": [
      "(3390, 33)\n",
      "(1131, 33)\n"
     ]
    }
   ],
   "source": [
    "data_train_x1, data_test_x, data_train_y1, data_test_y = train_test_split(data_x, data_y, random_state = 10)\n",
    "print(data_train_x1.shape)\n",
    "print(data_test_x.shape)"
   ]
  },
  {
   "cell_type": "code",
   "execution_count": 32,
   "metadata": {},
   "outputs": [],
   "source": [
    "from imblearn.over_sampling import SMOTE\n",
    "smote = SMOTE(random_state=0)\n",
    "data_train_x, data_train_y = smote.fit_resample(data_train_x1, data_train_y1)"
   ]
  },
  {
   "cell_type": "code",
   "execution_count": 33,
   "metadata": {},
   "outputs": [
    {
     "data": {
      "image/png": "[encoded data removed]",
      "text/plain": [
       "<Figure size 432x288 with 1 Axes>"
      ]
     },
     "metadata": {
      "needs_background": "light"
     },
     "output_type": "display_data"
    }
   ],
   "source": [
    "plt.bar(['No','Yes'], [sum(data_train_y), len(data_train_y)-sum(data_train_y)], facecolor = '#2ab0ee', edgecolor='#167aaa', linewidth=0.5)\n",
    "plt.title('Balanced Target Variable', fontsize=14)\n",
    "plt.show()"
   ]
  },
  {
   "cell_type": "markdown",
   "metadata": {},
   "source": [
    "### Standardizing data"
   ]
  },
  {
   "cell_type": "code",
   "execution_count": 34,
   "metadata": {},
   "outputs": [],
   "source": [
    "scaler = StandardScaler()\n",
    "data_train_x = scaler.fit_transform(data_train_x)\n",
    "data_test_x = scaler.transform(data_test_x)"
   ]
  },
  {
   "cell_type": "markdown",
   "metadata": {},
   "source": [
    "## 1. Different Models"
   ]
  },
  {
   "cell_type": "markdown",
   "metadata": {},
   "source": [
    "### Support Vector Machine"
   ]
  },
  {
   "cell_type": "code",
   "execution_count": 35,
   "metadata": {},
   "outputs": [
    {
     "name": "stdout",
     "output_type": "stream",
     "text": [
      "Best parameters:  {'C': 0.1, 'max_iter': 10000}\n",
      "Best estimtor: SVC(C=0.1, break_ties=False, cache_size=200, class_weight=None, coef0=0.0,\n",
      "    decision_function_shape='ovr', degree=3, gamma='scale', kernel='linear',\n",
      "    max_iter=10000, probability=False, random_state=None, shrinking=True,\n",
      "    tol=0.001, verbose=False)\n",
      "Best score: 0.9158248540450374\n"
     ]
    }
   ],
   "source": [
    "from sklearn.svm import SVC\n",
    "params = {'C': [10**i for i in range(-4, 5)] ,'max_iter':[1000,10000]}\n",
    "grid = GridSearchCV(SVC(kernel = 'linear'), params, cv = 5)\n",
    "grid.fit(data_train_x, data_train_y)\n",
    "print('Best parameters:  {}'.format(grid.best_params_))\n",
    "print('Best estimtor: {}'.format(grid.best_estimator_))\n",
    "print('Best score: {}'.format(grid.best_score_))"
   ]
  },
  {
   "cell_type": "code",
   "execution_count": 36,
   "metadata": {},
   "outputs": [
    {
     "name": "stdout",
     "output_type": "stream",
     "text": [
      "Confusion matrix:\n",
      " [[987  14]\n",
      " [109  21]]\n",
      "              precision    recall  f1-score   support\n",
      "\n",
      "           0       0.90      0.99      0.94      1001\n",
      "           1       0.60      0.16      0.25       130\n",
      "\n",
      "    accuracy                           0.89      1131\n",
      "   macro avg       0.75      0.57      0.60      1131\n",
      "weighted avg       0.87      0.89      0.86      1131\n",
      "\n"
     ]
    }
   ],
   "source": [
    "svc_linear = SVC(kernel = 'linear', C = 0.1, degree = 3, random_state = 1)\n",
    "svc_linear.fit(data_train_x, np.ravel(data_train_y))\n",
    "pred_train = svc_linear.predict(data_train_x)\n",
    "pred_test = svc_linear.predict(data_test_x)\n",
    "print('Confusion matrix:\\n', confusion_matrix(data_test_y, pred_test))\n",
    "train_accuracy = metrics.accuracy_score(data_train_y, pred_train)\n",
    "test_accuracy = metrics.accuracy_score(data_test_y, pred_test)\n",
    "print(classification_report(data_test_y,pred_test))"
   ]
  },
  {
   "cell_type": "code",
   "execution_count": 37,
   "metadata": {},
   "outputs": [],
   "source": [
    "#Create a dataframe to store all the model outputs\n",
    "model_output = pd.DataFrame(index=None, columns=['Model','Train_Accuracy', 'Test_Accuracy'])"
   ]
  },
  {
   "cell_type": "code",
   "execution_count": 38,
   "metadata": {},
   "outputs": [],
   "source": [
    "model_output = model_output.append(pd.Series({'Model' : 'SVM Linear', 'Train_Accuracy' : train_accuracy, \n",
    "                                              'Test_Accuracy' : test_accuracy}),ignore_index=True)"
   ]
  },
  {
   "cell_type": "code",
   "execution_count": 39,
   "metadata": {},
   "outputs": [
    {
     "name": "stdout",
     "output_type": "stream",
     "text": [
      "Best parameters:  {'C': 1, 'max_iter': 10000}\n",
      "Best estimtor: SVC(C=1, break_ties=False, cache_size=200, class_weight=None, coef0=0.0,\n",
      "    decision_function_shape='ovr', degree=3, gamma='scale', kernel='rbf',\n",
      "    max_iter=10000, probability=False, random_state=None, shrinking=True,\n",
      "    tol=0.001, verbose=False)\n",
      "Best score: 0.9209920767306088\n"
     ]
    }
   ],
   "source": [
    "params = {'C': [10**i for i in range(-4, 5)] ,'max_iter':[1000,10000]}\n",
    "grid = GridSearchCV(SVC(kernel = 'rbf'), params, cv = 5)\n",
    "grid.fit(data_train_x, data_train_y)\n",
    "print('Best parameters:  {}'.format(grid.best_params_))\n",
    "print('Best estimtor: {}'.format(grid.best_estimator_))\n",
    "print('Best score: {}'.format(grid.best_score_))"
   ]
  },
  {
   "cell_type": "code",
   "execution_count": 40,
   "metadata": {},
   "outputs": [
    {
     "name": "stdout",
     "output_type": "stream",
     "text": [
      "Confusion matrix:\n",
      " [[978  23]\n",
      " [107  23]]\n",
      "              precision    recall  f1-score   support\n",
      "\n",
      "           0       0.90      0.98      0.94      1001\n",
      "           1       0.50      0.18      0.26       130\n",
      "\n",
      "    accuracy                           0.89      1131\n",
      "   macro avg       0.70      0.58      0.60      1131\n",
      "weighted avg       0.86      0.89      0.86      1131\n",
      "\n"
     ]
    }
   ],
   "source": [
    "svc_rbf = SVC(kernel = 'rbf', C = 1, degree = 3,  random_state = 1)\n",
    "svc_rbf.fit(data_train_x, np.ravel(data_train_y))\n",
    "pred_train = svc_rbf.predict(data_train_x)\n",
    "pred_test = svc_rbf.predict(data_test_x)\n",
    "print('Confusion matrix:\\n', confusion_matrix(data_test_y, pred_test))\n",
    "train_accuracy = metrics.accuracy_score(data_train_y, pred_train)\n",
    "test_accuracy = metrics.accuracy_score(data_test_y, pred_test)\n",
    "print(classification_report(data_test_y,pred_test))\n",
    "model_output = model_output.append(pd.Series({'Model' : 'SVM RBF', 'Train_Accuracy' : train_accuracy, \n",
    "                                              'Test_Accuracy' : test_accuracy}),ignore_index=True)"
   ]
  },
  {
   "cell_type": "markdown",
   "metadata": {},
   "source": [
    "### Decision Trees"
   ]
  },
  {
   "cell_type": "code",
   "execution_count": 41,
   "metadata": {},
   "outputs": [
    {
     "name": "stdout",
     "output_type": "stream",
     "text": [
      "Best parameters:  {'criterion': 'entropy', 'max_depth': 14}\n",
      "Best estimtor: DecisionTreeClassifier(ccp_alpha=0.0, class_weight=None, criterion='entropy',\n",
      "                       max_depth=14, max_features=None, max_leaf_nodes=None,\n",
      "                       min_impurity_decrease=0.0, min_impurity_split=None,\n",
      "                       min_samples_leaf=1, min_samples_split=2,\n",
      "                       min_weight_fraction_leaf=0.0, presort='deprecated',\n",
      "                       random_state=None, splitter='best')\n",
      "Best score: 0.9116497080900752\n"
     ]
    }
   ],
   "source": [
    "from sklearn.tree import DecisionTreeClassifier\n",
    "params = {'criterion':['gini','entropy'],'max_depth': np.arange(3, 15)}\n",
    "grid = GridSearchCV(DecisionTreeClassifier(), params, cv = 5)\n",
    "grid.fit(data_train_x, data_train_y)\n",
    "print('Best parameters:  {}'.format(grid.best_params_))\n",
    "print('Best estimtor: {}'.format(grid.best_estimator_))\n",
    "print('Best score: {}'.format(grid.best_score_))"
   ]
  },
  {
   "cell_type": "code",
   "execution_count": 42,
   "metadata": {},
   "outputs": [
    {
     "name": "stdout",
     "output_type": "stream",
     "text": [
      "Confusion matrix:\n",
      " [[911  90]\n",
      " [ 80  50]]\n",
      "              precision    recall  f1-score   support\n",
      "\n",
      "           0       0.92      0.91      0.91      1001\n",
      "           1       0.36      0.38      0.37       130\n",
      "\n",
      "    accuracy                           0.85      1131\n",
      "   macro avg       0.64      0.65      0.64      1131\n",
      "weighted avg       0.85      0.85      0.85      1131\n",
      "\n"
     ]
    }
   ],
   "source": [
    "decision_tree = DecisionTreeClassifier(max_depth = 14, criterion = 'entropy',  random_state = 1)\n",
    "decision_tree.fit(data_train_x, np.ravel(data_train_y))\n",
    "pred_train = decision_tree.predict(data_train_x)\n",
    "pred_test = decision_tree.predict(data_test_x)\n",
    "print('Confusion matrix:\\n', confusion_matrix(data_test_y, pred_test))\n",
    "train_accuracy = metrics.accuracy_score(data_train_y, pred_train)\n",
    "test_accuracy = metrics.accuracy_score(data_test_y, pred_test)\n",
    "print(classification_report(data_test_y,pred_test))\n",
    "model_output = model_output.append(pd.Series({'Model' : 'Decision Tree', 'Train_Accuracy' : train_accuracy, \n",
    "                                              'Test_Accuracy' : test_accuracy}),ignore_index=True)"
   ]
  },
  {
   "cell_type": "markdown",
   "metadata": {},
   "source": [
    "### Logistic Regression"
   ]
  },
  {
   "cell_type": "code",
   "execution_count": 43,
   "metadata": {},
   "outputs": [
    {
     "name": "stdout",
     "output_type": "stream",
     "text": [
      "Best parameters:  {'C': 100.0, 'penalty': 'l2'}\n",
      "Best estimtor: LogisticRegression(C=100.0, class_weight=None, dual=False, fit_intercept=True,\n",
      "                   intercept_scaling=1, l1_ratio=None, max_iter=100,\n",
      "                   multi_class='auto', n_jobs=None, penalty='l2',\n",
      "                   random_state=None, solver='lbfgs', tol=0.0001, verbose=0,\n",
      "                   warm_start=False)\n",
      "Best score: 0.9186576313594662\n"
     ]
    }
   ],
   "source": [
    "from sklearn.linear_model  import LogisticRegression\n",
    "params = {\"C\":np.logspace(-3,3,7), \"penalty\":[\"l1\",\"l2\"]}\n",
    "grid = GridSearchCV(LogisticRegression(), params, cv = 5)\n",
    "grid.fit(data_train_x, data_train_y)\n",
    "print('Best parameters:  {}'.format(grid.best_params_))\n",
    "print('Best estimtor: {}'.format(grid.best_estimator_))\n",
    "print('Best score: {}'.format(grid.best_score_))"
   ]
  },
  {
   "cell_type": "code",
   "execution_count": 44,
   "metadata": {},
   "outputs": [
    {
     "name": "stdout",
     "output_type": "stream",
     "text": [
      "Confusion matrix:\n",
      " [[966  35]\n",
      " [ 84  46]]\n",
      "              precision    recall  f1-score   support\n",
      "\n",
      "           0       0.92      0.97      0.94      1001\n",
      "           1       0.57      0.35      0.44       130\n",
      "\n",
      "    accuracy                           0.89      1131\n",
      "   macro avg       0.74      0.66      0.69      1131\n",
      "weighted avg       0.88      0.89      0.88      1131\n",
      "\n"
     ]
    }
   ],
   "source": [
    "logistic = LogisticRegression(C = 100, penalty = 'l2',  random_state = 1)\n",
    "logistic.fit(data_train_x, np.ravel(data_train_y))\n",
    "pred_train = logistic.predict(data_train_x)\n",
    "pred_test = logistic.predict(data_test_x)\n",
    "print('Confusion matrix:\\n', confusion_matrix(data_test_y, pred_test))\n",
    "train_accuracy = metrics.accuracy_score(data_train_y, pred_train)\n",
    "test_accuracy = metrics.accuracy_score(data_test_y, pred_test)\n",
    "print(classification_report(data_test_y,pred_test))\n",
    "model_output = model_output.append(pd.Series({'Model' : 'Logistic Regression', 'Train_Accuracy' : train_accuracy, \n",
    "                                              'Test_Accuracy' : test_accuracy}),ignore_index=True)"
   ]
  },
  {
   "cell_type": "markdown",
   "metadata": {},
   "source": [
    "### Random Forest"
   ]
  },
  {
   "cell_type": "code",
   "execution_count": 45,
   "metadata": {},
   "outputs": [
    {
     "name": "stdout",
     "output_type": "stream",
     "text": [
      "Best parameters:  {'max_features': 'log2', 'max_depth': 14, 'criterion': 'entropy'}\n",
      "Best estimtor: RandomForestClassifier(bootstrap=True, ccp_alpha=0.0, class_weight=None,\n",
      "                       criterion='entropy', max_depth=14, max_features='log2',\n",
      "                       max_leaf_nodes=None, max_samples=None,\n",
      "                       min_impurity_decrease=0.0, min_impurity_split=None,\n",
      "                       min_samples_leaf=1, min_samples_split=2,\n",
      "                       min_weight_fraction_leaf=0.0, n_estimators=1000,\n",
      "                       n_jobs=None, oob_score=False, random_state=None,\n",
      "                       verbose=0, warm_start=False)\n",
      "Best score: 0.9309892966360855\n"
     ]
    }
   ],
   "source": [
    "from sklearn.model_selection import RandomizedSearchCV\n",
    "from sklearn.ensemble import RandomForestClassifier\n",
    "params = {'criterion':['gini','entropy'],'max_depth': np.arange(3, 15), 'max_features' : [\"auto\", \"sqrt\", \"log2\"],}\n",
    "grid = RandomizedSearchCV(RandomForestClassifier(n_estimators = 1000), params, cv = 5)\n",
    "grid.fit(data_train_x, data_train_y)\n",
    "print('Best parameters:  {}'.format(grid.best_params_))\n",
    "print('Best estimtor: {}'.format(grid.best_estimator_))\n",
    "print('Best score: {}'.format(grid.best_score_))"
   ]
  },
  {
   "cell_type": "code",
   "execution_count": 46,
   "metadata": {},
   "outputs": [
    {
     "name": "stdout",
     "output_type": "stream",
     "text": [
      "Confusion matrix:\n",
      " [[935  66]\n",
      " [ 66  64]]\n",
      "              precision    recall  f1-score   support\n",
      "\n",
      "           0       0.93      0.93      0.93      1001\n",
      "           1       0.49      0.49      0.49       130\n",
      "\n",
      "    accuracy                           0.88      1131\n",
      "   macro avg       0.71      0.71      0.71      1131\n",
      "weighted avg       0.88      0.88      0.88      1131\n",
      "\n"
     ]
    }
   ],
   "source": [
    "random_forest = RandomForestClassifier(max_depth = 14, criterion = 'entropy', max_features = 'log2', \n",
    "                                       random_state = 1)\n",
    "random_forest.fit(data_train_x, np.ravel(data_train_y))\n",
    "pred_train = random_forest.predict(data_train_x)\n",
    "pred_test = random_forest.predict(data_test_x)\n",
    "print('Confusion matrix:\\n', confusion_matrix(data_test_y, pred_test))\n",
    "train_accuracy = metrics.accuracy_score(data_train_y, pred_train)\n",
    "test_accuracy = metrics.accuracy_score(data_test_y, pred_test)\n",
    "print(classification_report(data_test_y,pred_test))\n",
    "model_output = model_output.append(pd.Series({'Model' : 'Random Forest', 'Train_Accuracy' : train_accuracy, \n",
    "                                              'Test_Accuracy' : test_accuracy}),ignore_index=True)"
   ]
  },
  {
   "cell_type": "markdown",
   "metadata": {},
   "source": [
    "## KNN"
   ]
  },
  {
   "cell_type": "code",
   "execution_count": 47,
   "metadata": {},
   "outputs": [
    {
     "name": "stdout",
     "output_type": "stream",
     "text": [
      "Best parameters:  {'weights': 'distance', 'n_neighbors': 19, 'metric': 'minkowski'}\n",
      "Best estimtor: KNeighborsClassifier(algorithm='auto', leaf_size=30, metric='minkowski',\n",
      "                     metric_params=None, n_jobs=None, n_neighbors=19, p=2,\n",
      "                     weights='distance')\n",
      "Best score: 0.9293269391159299\n"
     ]
    }
   ],
   "source": [
    "from sklearn.neighbors import KNeighborsClassifier\n",
    "params = {'metric': ['minkowski','euclidean','manhattan'], 'weights' : ['uniform','distance'], \n",
    "          'n_neighbors'  : range(5,100) }\n",
    "grid = RandomizedSearchCV(KNeighborsClassifier(), params, cv = 5)\n",
    "grid.fit(data_train_x, data_train_y)\n",
    "print('Best parameters:  {}'.format(grid.best_params_))\n",
    "print('Best estimtor: {}'.format(grid.best_estimator_))\n",
    "print('Best score: {}'.format(grid.best_score_))"
   ]
  },
  {
   "cell_type": "code",
   "execution_count": 48,
   "metadata": {},
   "outputs": [
    {
     "name": "stdout",
     "output_type": "stream",
     "text": [
      "Confusion matrix:\n",
      " [[954  47]\n",
      " [ 97  33]]\n",
      "              precision    recall  f1-score   support\n",
      "\n",
      "           0       0.91      0.95      0.93      1001\n",
      "           1       0.41      0.25      0.31       130\n",
      "\n",
      "    accuracy                           0.87      1131\n",
      "   macro avg       0.66      0.60      0.62      1131\n",
      "weighted avg       0.85      0.87      0.86      1131\n",
      "\n"
     ]
    }
   ],
   "source": [
    "knn = KNeighborsClassifier(metric = 'minkowski', weights = 'distance', n_neighbors = 19)\n",
    "knn.fit(data_train_x, np.ravel(data_train_y))\n",
    "pred_train = knn.predict(data_train_x)\n",
    "pred_test = knn.predict(data_test_x)\n",
    "print('Confusion matrix:\\n', confusion_matrix(data_test_y, pred_test))\n",
    "train_accuracy = metrics.accuracy_score(data_train_y, pred_train)\n",
    "test_accuracy = metrics.accuracy_score(data_test_y, pred_test)\n",
    "print(classification_report(data_test_y,pred_test))"
   ]
  },
  {
   "cell_type": "code",
   "execution_count": 49,
   "metadata": {},
   "outputs": [
    {
     "data": {
      "text/html": [
       "<div>\n",
       "<style scoped>\n",
       "    .dataframe tbody tr th:only-of-type {\n",
       "        vertical-align: middle;\n",
       "    }\n",
       "\n",
       "    .dataframe tbody tr th {\n",
       "        vertical-align: top;\n",
       "    }\n",
       "\n",
       "    .dataframe thead th {\n",
       "        text-align: right;\n",
       "    }\n",
       "</style>\n",
       "<table border=\"1\" class=\"dataframe\">\n",
       "  <thead>\n",
       "    <tr style=\"text-align: right;\">\n",
       "      <th></th>\n",
       "      <th>Model</th>\n",
       "      <th>Train_Accuracy</th>\n",
       "      <th>Test_Accuracy</th>\n",
       "    </tr>\n",
       "  </thead>\n",
       "  <tbody>\n",
       "    <tr>\n",
       "      <td>0</td>\n",
       "      <td>SVM Linear</td>\n",
       "      <td>0.929977</td>\n",
       "      <td>0.891247</td>\n",
       "    </tr>\n",
       "    <tr>\n",
       "      <td>1</td>\n",
       "      <td>SVM RBF</td>\n",
       "      <td>0.949817</td>\n",
       "      <td>0.885057</td>\n",
       "    </tr>\n",
       "    <tr>\n",
       "      <td>2</td>\n",
       "      <td>Decision Tree</td>\n",
       "      <td>0.989330</td>\n",
       "      <td>0.849691</td>\n",
       "    </tr>\n",
       "    <tr>\n",
       "      <td>3</td>\n",
       "      <td>Logistic Regression</td>\n",
       "      <td>0.935812</td>\n",
       "      <td>0.894783</td>\n",
       "    </tr>\n",
       "    <tr>\n",
       "      <td>4</td>\n",
       "      <td>Random Forest</td>\n",
       "      <td>0.993831</td>\n",
       "      <td>0.883289</td>\n",
       "    </tr>\n",
       "    <tr>\n",
       "      <td>5</td>\n",
       "      <td>KNN</td>\n",
       "      <td>1.000000</td>\n",
       "      <td>0.872679</td>\n",
       "    </tr>\n",
       "  </tbody>\n",
       "</table>\n",
       "</div>"
      ],
      "text/plain": [
       "                 Model  Train_Accuracy  Test_Accuracy\n",
       "0           SVM Linear        0.929977       0.891247\n",
       "1              SVM RBF        0.949817       0.885057\n",
       "2        Decision Tree        0.989330       0.849691\n",
       "3  Logistic Regression        0.935812       0.894783\n",
       "4        Random Forest        0.993831       0.883289\n",
       "5                  KNN        1.000000       0.872679"
      ]
     },
     "execution_count": 49,
     "metadata": {},
     "output_type": "execute_result"
    }
   ],
   "source": [
    "model_output = model_output.append(pd.Series({'Model' : 'KNN', 'Train_Accuracy' : train_accuracy, \n",
    "                                              'Test_Accuracy' : test_accuracy}),ignore_index=True)\n",
    "model_output"
   ]
  },
  {
   "cell_type": "markdown",
   "metadata": {},
   "source": [
    "## 2. Bagging & Boosting\n",
    "\n",
    "### Linear SVM with Bagging"
   ]
  },
  {
   "cell_type": "code",
   "execution_count": 50,
   "metadata": {},
   "outputs": [
    {
     "name": "stdout",
     "output_type": "stream",
     "text": [
      "Confusion matrix:\n",
      " [[921  80]\n",
      " [ 57  73]]\n",
      "              precision    recall  f1-score   support\n",
      "\n",
      "           0       0.94      0.92      0.93      1001\n",
      "           1       0.48      0.56      0.52       130\n",
      "\n",
      "    accuracy                           0.88      1131\n",
      "   macro avg       0.71      0.74      0.72      1131\n",
      "weighted avg       0.89      0.88      0.88      1131\n",
      "\n"
     ]
    },
    {
     "data": {
      "text/html": [
       "<div>\n",
       "<style scoped>\n",
       "    .dataframe tbody tr th:only-of-type {\n",
       "        vertical-align: middle;\n",
       "    }\n",
       "\n",
       "    .dataframe tbody tr th {\n",
       "        vertical-align: top;\n",
       "    }\n",
       "\n",
       "    .dataframe thead th {\n",
       "        text-align: right;\n",
       "    }\n",
       "</style>\n",
       "<table border=\"1\" class=\"dataframe\">\n",
       "  <thead>\n",
       "    <tr style=\"text-align: right;\">\n",
       "      <th></th>\n",
       "      <th>Model</th>\n",
       "      <th>Train_Accuracy</th>\n",
       "      <th>Test_Accuracy</th>\n",
       "    </tr>\n",
       "  </thead>\n",
       "  <tbody>\n",
       "    <tr>\n",
       "      <td>0</td>\n",
       "      <td>SVM Linear</td>\n",
       "      <td>0.929977</td>\n",
       "      <td>0.891247</td>\n",
       "    </tr>\n",
       "    <tr>\n",
       "      <td>1</td>\n",
       "      <td>SVM RBF</td>\n",
       "      <td>0.949817</td>\n",
       "      <td>0.885057</td>\n",
       "    </tr>\n",
       "    <tr>\n",
       "      <td>2</td>\n",
       "      <td>Decision Tree</td>\n",
       "      <td>0.989330</td>\n",
       "      <td>0.849691</td>\n",
       "    </tr>\n",
       "    <tr>\n",
       "      <td>3</td>\n",
       "      <td>Logistic Regression</td>\n",
       "      <td>0.935812</td>\n",
       "      <td>0.894783</td>\n",
       "    </tr>\n",
       "    <tr>\n",
       "      <td>4</td>\n",
       "      <td>Random Forest</td>\n",
       "      <td>0.993831</td>\n",
       "      <td>0.883289</td>\n",
       "    </tr>\n",
       "    <tr>\n",
       "      <td>5</td>\n",
       "      <td>KNN</td>\n",
       "      <td>1.000000</td>\n",
       "      <td>0.872679</td>\n",
       "    </tr>\n",
       "    <tr>\n",
       "      <td>6</td>\n",
       "      <td>SVM with Bagging</td>\n",
       "      <td>0.924308</td>\n",
       "      <td>0.878868</td>\n",
       "    </tr>\n",
       "  </tbody>\n",
       "</table>\n",
       "</div>"
      ],
      "text/plain": [
       "                 Model  Train_Accuracy  Test_Accuracy\n",
       "0           SVM Linear        0.929977       0.891247\n",
       "1              SVM RBF        0.949817       0.885057\n",
       "2        Decision Tree        0.989330       0.849691\n",
       "3  Logistic Regression        0.935812       0.894783\n",
       "4        Random Forest        0.993831       0.883289\n",
       "5                  KNN        1.000000       0.872679\n",
       "6     SVM with Bagging        0.924308       0.878868"
      ]
     },
     "execution_count": 50,
     "metadata": {},
     "output_type": "execute_result"
    }
   ],
   "source": [
    "from sklearn.ensemble import BaggingClassifier\n",
    "\n",
    "bagging = BaggingClassifier(svc_linear, max_features = 15, bootstrap = True, oob_score = True, n_estimators = 100, \n",
    "                           random_state = 1)\n",
    "bagging.fit(data_train_x, np.ravel(data_train_y))\n",
    "pred_train = bagging.predict(data_train_x)\n",
    "pred_test = bagging.predict(data_test_x)\n",
    "print('Confusion matrix:\\n', confusion_matrix(data_test_y, pred_test))\n",
    "train_accuracy = metrics.accuracy_score(data_train_y, pred_train)\n",
    "test_accuracy = metrics.accuracy_score(data_test_y, pred_test)\n",
    "print(classification_report(data_test_y,pred_test))\n",
    "\n",
    "model_output = model_output.append(pd.Series({'Model' : 'SVM with Bagging', 'Train_Accuracy' : train_accuracy, \n",
    "                                              'Test_Accuracy' : test_accuracy}),ignore_index=True)\n",
    "model_output"
   ]
  },
  {
   "cell_type": "markdown",
   "metadata": {},
   "source": [
    "## Kernelized SVM"
   ]
  },
  {
   "cell_type": "code",
   "execution_count": 51,
   "metadata": {},
   "outputs": [
    {
     "name": "stdout",
     "output_type": "stream",
     "text": [
      "Confusion matrix:\n",
      " [[946  55]\n",
      " [ 84  46]]\n",
      "              precision    recall  f1-score   support\n",
      "\n",
      "           0       0.92      0.95      0.93      1001\n",
      "           1       0.46      0.35      0.40       130\n",
      "\n",
      "    accuracy                           0.88      1131\n",
      "   macro avg       0.69      0.65      0.66      1131\n",
      "weighted avg       0.87      0.88      0.87      1131\n",
      "\n"
     ]
    }
   ],
   "source": [
    "from sklearn.ensemble import BaggingClassifier\n",
    "\n",
    "bagging = BaggingClassifier(svc_rbf, max_features = 15, bootstrap = True, oob_score = True, n_estimators = 100, \n",
    "                           random_state = 1)\n",
    "bagging.fit(data_train_x, np.ravel(data_train_y))\n",
    "pred_train = bagging.predict(data_train_x)\n",
    "pred_test = bagging.predict(data_test_x)\n",
    "print('Confusion matrix:\\n', confusion_matrix(data_test_y, pred_test))\n",
    "train_accuracy = metrics.accuracy_score(data_train_y, pred_train)\n",
    "test_accuracy = metrics.accuracy_score(data_test_y, pred_test)\n",
    "print(classification_report(data_test_y,pred_test))\n",
    "\n",
    "model_output = model_output.append(pd.Series({'Model' : 'SVM-RBF with Bagging', 'Train_Accuracy' : train_accuracy, \n",
    "                                              'Test_Accuracy' : test_accuracy}),ignore_index=True)"
   ]
  },
  {
   "cell_type": "markdown",
   "metadata": {},
   "source": [
    "### Decision tree with Bagging"
   ]
  },
  {
   "cell_type": "code",
   "execution_count": 52,
   "metadata": {},
   "outputs": [
    {
     "name": "stdout",
     "output_type": "stream",
     "text": [
      "Confusion matrix:\n",
      " [[929  72]\n",
      " [ 62  68]]\n",
      "              precision    recall  f1-score   support\n",
      "\n",
      "           0       0.94      0.93      0.93      1001\n",
      "           1       0.49      0.52      0.50       130\n",
      "\n",
      "    accuracy                           0.88      1131\n",
      "   macro avg       0.71      0.73      0.72      1131\n",
      "weighted avg       0.89      0.88      0.88      1131\n",
      "\n"
     ]
    }
   ],
   "source": [
    "bagging = BaggingClassifier(decision_tree, max_features = 15, bootstrap = True, oob_score = True, n_estimators = 30, \n",
    "                           random_state = 1)\n",
    "bagging.fit(data_train_x, np.ravel(data_train_y))\n",
    "pred_train = bagging.predict(data_train_x)\n",
    "pred_test = bagging.predict(data_test_x)\n",
    "print('Confusion matrix:\\n', confusion_matrix(data_test_y, pred_test))\n",
    "train_accuracy = metrics.accuracy_score(data_train_y, pred_train)\n",
    "test_accuracy = metrics.accuracy_score(data_test_y, pred_test)\n",
    "print(classification_report(data_test_y,pred_test))\n",
    "\n",
    "model_output = model_output.append(pd.Series({'Model' : 'Decision Tree with Bagging', 'Train_Accuracy' : train_accuracy, \n",
    "                                              'Test_Accuracy' : test_accuracy}),ignore_index=True)"
   ]
  },
  {
   "cell_type": "markdown",
   "metadata": {},
   "source": [
    "### Logistic Regression with Bagging"
   ]
  },
  {
   "cell_type": "code",
   "execution_count": 53,
   "metadata": {},
   "outputs": [
    {
     "name": "stdout",
     "output_type": "stream",
     "text": [
      "Confusion matrix:\n",
      " [[926  75]\n",
      " [ 61  69]]\n",
      "              precision    recall  f1-score   support\n",
      "\n",
      "           0       0.94      0.93      0.93      1001\n",
      "           1       0.48      0.53      0.50       130\n",
      "\n",
      "    accuracy                           0.88      1131\n",
      "   macro avg       0.71      0.73      0.72      1131\n",
      "weighted avg       0.89      0.88      0.88      1131\n",
      "\n"
     ]
    }
   ],
   "source": [
    "bagging = BaggingClassifier(logistic, max_features = 15, bootstrap = True, oob_score = True, n_estimators = 30, \n",
    "                           random_state = 1)\n",
    "bagging.fit(data_train_x, np.ravel(data_train_y))\n",
    "pred_train = bagging.predict(data_train_x)\n",
    "pred_test = bagging.predict(data_test_x)\n",
    "print('Confusion matrix:\\n', confusion_matrix(data_test_y, pred_test))\n",
    "train_accuracy = metrics.accuracy_score(data_train_y, pred_train)\n",
    "test_accuracy = metrics.accuracy_score(data_test_y, pred_test)\n",
    "print(classification_report(data_test_y,pred_test))\n",
    "\n",
    "model_output = model_output.append(pd.Series({'Model' : 'Logistic Reg with Bagging', 'Train_Accuracy' : train_accuracy, \n",
    "                                              'Test_Accuracy' : test_accuracy}),ignore_index=True)"
   ]
  },
  {
   "cell_type": "markdown",
   "metadata": {},
   "source": [
    "## Random Forest with Bagging"
   ]
  },
  {
   "cell_type": "code",
   "execution_count": 54,
   "metadata": {},
   "outputs": [
    {
     "name": "stdout",
     "output_type": "stream",
     "text": [
      "Confusion matrix:\n",
      " [[926  75]\n",
      " [ 67  63]]\n",
      "              precision    recall  f1-score   support\n",
      "\n",
      "           0       0.93      0.93      0.93      1001\n",
      "           1       0.46      0.48      0.47       130\n",
      "\n",
      "    accuracy                           0.87      1131\n",
      "   macro avg       0.69      0.70      0.70      1131\n",
      "weighted avg       0.88      0.87      0.88      1131\n",
      "\n"
     ]
    }
   ],
   "source": [
    "bagging = BaggingClassifier(random_forest, max_features = 15, bootstrap = True, oob_score = True, n_estimators = 30, \n",
    "                           random_state = 1)\n",
    "bagging.fit(data_train_x, np.ravel(data_train_y))\n",
    "pred_train = bagging.predict(data_train_x)\n",
    "pred_test = bagging.predict(data_test_x)\n",
    "print('Confusion matrix:\\n', confusion_matrix(data_test_y, pred_test))\n",
    "train_accuracy = metrics.accuracy_score(data_train_y, pred_train)\n",
    "test_accuracy = metrics.accuracy_score(data_test_y, pred_test)\n",
    "print(classification_report(data_test_y,pred_test))\n",
    "\n",
    "model_output = model_output.append(pd.Series({'Model' : 'RF with Bagging', 'Train_Accuracy' : train_accuracy, \n",
    "                                              'Test_Accuracy' : test_accuracy}),ignore_index=True)"
   ]
  },
  {
   "cell_type": "markdown",
   "metadata": {},
   "source": [
    "## KNN with Bagging"
   ]
  },
  {
   "cell_type": "code",
   "execution_count": 55,
   "metadata": {},
   "outputs": [
    {
     "name": "stdout",
     "output_type": "stream",
     "text": [
      "Confusion matrix:\n",
      " [[940  61]\n",
      " [ 72  58]]\n",
      "              precision    recall  f1-score   support\n",
      "\n",
      "           0       0.93      0.94      0.93      1001\n",
      "           1       0.49      0.45      0.47       130\n",
      "\n",
      "    accuracy                           0.88      1131\n",
      "   macro avg       0.71      0.69      0.70      1131\n",
      "weighted avg       0.88      0.88      0.88      1131\n",
      "\n"
     ]
    }
   ],
   "source": [
    "bagging = BaggingClassifier(knn, max_features = 15, bootstrap = True, oob_score = True, n_estimators = 30, \n",
    "                           random_state = 1)\n",
    "bagging.fit(data_train_x, np.ravel(data_train_y))\n",
    "pred_train = bagging.predict(data_train_x)\n",
    "pred_test = bagging.predict(data_test_x)\n",
    "print('Confusion matrix:\\n', confusion_matrix(data_test_y, pred_test))\n",
    "train_accuracy = metrics.accuracy_score(data_train_y, pred_train)\n",
    "test_accuracy = metrics.accuracy_score(data_test_y, pred_test)\n",
    "print(classification_report(data_test_y,pred_test))\n",
    "\n",
    "model_output = model_output.append(pd.Series({'Model' : 'KNN with Bagging', 'Train_Accuracy' : train_accuracy, \n",
    "                                              'Test_Accuracy' : test_accuracy}),ignore_index=True)"
   ]
  },
  {
   "cell_type": "markdown",
   "metadata": {},
   "source": [
    "### Gradient Boosting"
   ]
  },
  {
   "cell_type": "code",
   "execution_count": 56,
   "metadata": {},
   "outputs": [
    {
     "name": "stdout",
     "output_type": "stream",
     "text": [
      "Best parameters:  {'learning_rate': 0.1, 'max_depth': 4, 'max_features': 'log2'}\n",
      "Best estimtor: GradientBoostingClassifier(ccp_alpha=0.0, criterion='friedman_mse', init=None,\n",
      "                           learning_rate=0.1, loss='deviance', max_depth=4,\n",
      "                           max_features='log2', max_leaf_nodes=None,\n",
      "                           min_impurity_decrease=0.0, min_impurity_split=None,\n",
      "                           min_samples_leaf=1, min_samples_split=2,\n",
      "                           min_weight_fraction_leaf=0.0, n_estimators=200,\n",
      "                           n_iter_no_change=None, presort='deprecated',\n",
      "                           random_state=1, subsample=1.0, tol=0.0001,\n",
      "                           validation_fraction=0.1, verbose=0,\n",
      "                           warm_start=False)\n",
      "Best score: 0.9228229079788713\n"
     ]
    }
   ],
   "source": [
    "from sklearn.ensemble import GradientBoostingClassifier\n",
    "\n",
    "params = {'learning_rate': [1, 0.1, 0.01, 0.05],'max_depth': [2,3,4],'max_features':['auto', 'log2']}\n",
    "grid = GridSearchCV(GradientBoostingClassifier(n_estimators= 200,random_state = 1), params, cv=5)\n",
    "grid.fit(data_train_x, data_train_y)\n",
    "print('Best parameters:  {}'.format(grid.best_params_))\n",
    "print('Best estimtor: {}'.format(grid.best_estimator_))\n",
    "print('Best score: {}'.format(grid.best_score_))"
   ]
  },
  {
   "cell_type": "code",
   "execution_count": 57,
   "metadata": {},
   "outputs": [
    {
     "name": "stdout",
     "output_type": "stream",
     "text": [
      "Confusion matrix:\n",
      " [[917  84]\n",
      " [ 67  63]]\n",
      "              precision    recall  f1-score   support\n",
      "\n",
      "           0       0.93      0.92      0.92      1001\n",
      "           1       0.43      0.48      0.45       130\n",
      "\n",
      "    accuracy                           0.87      1131\n",
      "   macro avg       0.68      0.70      0.69      1131\n",
      "weighted avg       0.87      0.87      0.87      1131\n",
      "\n"
     ]
    },
    {
     "data": {
      "text/html": [
       "<div>\n",
       "<style scoped>\n",
       "    .dataframe tbody tr th:only-of-type {\n",
       "        vertical-align: middle;\n",
       "    }\n",
       "\n",
       "    .dataframe tbody tr th {\n",
       "        vertical-align: top;\n",
       "    }\n",
       "\n",
       "    .dataframe thead th {\n",
       "        text-align: right;\n",
       "    }\n",
       "</style>\n",
       "<table border=\"1\" class=\"dataframe\">\n",
       "  <thead>\n",
       "    <tr style=\"text-align: right;\">\n",
       "      <th></th>\n",
       "      <th>Model</th>\n",
       "      <th>Train_Accuracy</th>\n",
       "      <th>Test_Accuracy</th>\n",
       "    </tr>\n",
       "  </thead>\n",
       "  <tbody>\n",
       "    <tr>\n",
       "      <td>0</td>\n",
       "      <td>SVM Linear</td>\n",
       "      <td>0.929977</td>\n",
       "      <td>0.891247</td>\n",
       "    </tr>\n",
       "    <tr>\n",
       "      <td>1</td>\n",
       "      <td>SVM RBF</td>\n",
       "      <td>0.949817</td>\n",
       "      <td>0.885057</td>\n",
       "    </tr>\n",
       "    <tr>\n",
       "      <td>2</td>\n",
       "      <td>Decision Tree</td>\n",
       "      <td>0.989330</td>\n",
       "      <td>0.849691</td>\n",
       "    </tr>\n",
       "    <tr>\n",
       "      <td>3</td>\n",
       "      <td>Logistic Regression</td>\n",
       "      <td>0.935812</td>\n",
       "      <td>0.894783</td>\n",
       "    </tr>\n",
       "    <tr>\n",
       "      <td>4</td>\n",
       "      <td>Random Forest</td>\n",
       "      <td>0.993831</td>\n",
       "      <td>0.883289</td>\n",
       "    </tr>\n",
       "    <tr>\n",
       "      <td>5</td>\n",
       "      <td>KNN</td>\n",
       "      <td>1.000000</td>\n",
       "      <td>0.872679</td>\n",
       "    </tr>\n",
       "    <tr>\n",
       "      <td>6</td>\n",
       "      <td>SVM with Bagging</td>\n",
       "      <td>0.924308</td>\n",
       "      <td>0.878868</td>\n",
       "    </tr>\n",
       "    <tr>\n",
       "      <td>7</td>\n",
       "      <td>SVM-RBF with Bagging</td>\n",
       "      <td>0.931811</td>\n",
       "      <td>0.877100</td>\n",
       "    </tr>\n",
       "    <tr>\n",
       "      <td>8</td>\n",
       "      <td>Decision Tree with Bagging</td>\n",
       "      <td>0.996999</td>\n",
       "      <td>0.881521</td>\n",
       "    </tr>\n",
       "    <tr>\n",
       "      <td>9</td>\n",
       "      <td>Logistic Reg with Bagging</td>\n",
       "      <td>0.923641</td>\n",
       "      <td>0.879752</td>\n",
       "    </tr>\n",
       "    <tr>\n",
       "      <td>10</td>\n",
       "      <td>RF with Bagging</td>\n",
       "      <td>0.982494</td>\n",
       "      <td>0.874447</td>\n",
       "    </tr>\n",
       "    <tr>\n",
       "      <td>11</td>\n",
       "      <td>KNN with Bagging</td>\n",
       "      <td>1.000000</td>\n",
       "      <td>0.882405</td>\n",
       "    </tr>\n",
       "    <tr>\n",
       "      <td>12</td>\n",
       "      <td>Gradient Boosting</td>\n",
       "      <td>0.959153</td>\n",
       "      <td>0.866490</td>\n",
       "    </tr>\n",
       "  </tbody>\n",
       "</table>\n",
       "</div>"
      ],
      "text/plain": [
       "                         Model  Train_Accuracy  Test_Accuracy\n",
       "0                   SVM Linear        0.929977       0.891247\n",
       "1                      SVM RBF        0.949817       0.885057\n",
       "2                Decision Tree        0.989330       0.849691\n",
       "3          Logistic Regression        0.935812       0.894783\n",
       "4                Random Forest        0.993831       0.883289\n",
       "5                          KNN        1.000000       0.872679\n",
       "6             SVM with Bagging        0.924308       0.878868\n",
       "7         SVM-RBF with Bagging        0.931811       0.877100\n",
       "8   Decision Tree with Bagging        0.996999       0.881521\n",
       "9    Logistic Reg with Bagging        0.923641       0.879752\n",
       "10             RF with Bagging        0.982494       0.874447\n",
       "11            KNN with Bagging        1.000000       0.882405\n",
       "12           Gradient Boosting        0.959153       0.866490"
      ]
     },
     "execution_count": 57,
     "metadata": {},
     "output_type": "execute_result"
    }
   ],
   "source": [
    "gbc = GradientBoostingClassifier(learning_rate = 0.1 , max_depth = 4 , max_features = 'log2')\n",
    "gbc.fit(data_train_x, np.ravel(data_train_y))\n",
    "pred_train = gbc.predict(data_train_x)\n",
    "pred_test = gbc.predict(data_test_x)\n",
    "print('Confusion matrix:\\n', confusion_matrix(data_test_y, pred_test))\n",
    "train_accuracy = metrics.accuracy_score(data_train_y, pred_train)\n",
    "test_accuracy = metrics.accuracy_score(data_test_y, pred_test)\n",
    "print(classification_report(data_test_y,pred_test))\n",
    "\n",
    "model_output = model_output.append(pd.Series({'Model' : 'Gradient Boosting', 'Train_Accuracy' : train_accuracy, \n",
    "                                              'Test_Accuracy' : test_accuracy}),ignore_index=True)\n",
    "model_output"
   ]
  },
  {
   "cell_type": "markdown",
   "metadata": {},
   "source": [
    "## 3. PCA"
   ]
  },
  {
   "cell_type": "code",
   "execution_count": 61,
   "metadata": {},
   "outputs": [
    {
     "data": {
      "image/png": "[encoded data removed]",
      "text/plain": [
       "<Figure size 432x288 with 1 Axes>"
      ]
     },
     "metadata": {
      "needs_background": "light"
     },
     "output_type": "display_data"
    }
   ],
   "source": [
    "from sklearn.decomposition import PCA\n",
    "#Fitting the PCA algorithm with our Data\n",
    "pca = PCA().fit(data_train_x)\n",
    "#Plotting the Cumulative Summation of the Explained Variance\n",
    "plt.figure()\n",
    "plt.plot(np.cumsum(pca.explained_variance_ratio_))\n",
    "plt.xlabel('Number of Components')\n",
    "plt.ylabel('Variance (%)') #for each component\n",
    "plt.title('Dataset Explained Variance')\n",
    "plt.show()"
   ]
  },
  {
   "cell_type": "markdown",
   "metadata": {},
   "source": [
    "#### PCA doesn't make sense here as the data doesn't have really high dimension."
   ]
  },
  {
   "cell_type": "markdown",
   "metadata": {},
   "source": [
    "## ADABoost"
   ]
  },
  {
   "cell_type": "code",
   "execution_count": 65,
   "metadata": {},
   "outputs": [
    {
     "name": "stdout",
     "output_type": "stream",
     "text": [
      "Best parameters:  {'learning_rate': 1}\n",
      "Best estimtor: AdaBoostClassifier(algorithm='SAMME',\n",
      "                   base_estimator=SVC(C=0.1, break_ties=False, cache_size=200,\n",
      "                                      class_weight=None, coef0=0.0,\n",
      "                                      decision_function_shape='ovr', degree=3,\n",
      "                                      gamma='scale', kernel='linear',\n",
      "                                      max_iter=-1, probability=False,\n",
      "                                      random_state=1, shrinking=True, tol=0.001,\n",
      "                                      verbose=False),\n",
      "                   learning_rate=1, n_estimators=50, random_state=1)\n",
      "Best score: 0.6321665276619405\n"
     ]
    }
   ],
   "source": [
    "from sklearn.ensemble import AdaBoostClassifier\n",
    "param_grid = {'learning_rate':[1, 0.1, 0.01, 0.001]}\n",
    "grid = GridSearchCV(AdaBoostClassifier(base_estimator = svc_linear, random_state = 1, algorithm='SAMME'),\n",
    "                            param_grid, cv = 5,return_train_score=True)\n",
    "grid.fit(data_train_x, data_train_y)\n",
    "\n",
    "print('Best parameters:  {}'.format(grid.best_params_))\n",
    "print('Best estimtor: {}'.format(grid.best_estimator_))\n",
    "print('Best score: {}'.format(grid.best_score_))"
   ]
  },
  {
   "cell_type": "code",
   "execution_count": 66,
   "metadata": {},
   "outputs": [
    {
     "name": "stdout",
     "output_type": "stream",
     "text": [
      "Confusion matrix:\n",
      " [[995   6]\n",
      " [107  23]]\n",
      "              precision    recall  f1-score   support\n",
      "\n",
      "           0       0.90      0.99      0.95      1001\n",
      "           1       0.79      0.18      0.29       130\n",
      "\n",
      "    accuracy                           0.90      1131\n",
      "   macro avg       0.85      0.59      0.62      1131\n",
      "weighted avg       0.89      0.90      0.87      1131\n",
      "\n"
     ]
    }
   ],
   "source": [
    "adaboost = AdaBoostClassifier(base_estimator = svc_linear, random_state = 1, algorithm='SAMME', \n",
    "                                 learning_rate = 1)\n",
    "adaboost.fit(data_train_x, np.ravel(data_train_y))\n",
    "\n",
    "pred_train = adaboost.predict(data_train_x)\n",
    "pred_test = adaboost.predict(data_test_x)\n",
    "print('Confusion matrix:\\n', confusion_matrix(data_test_y, pred_test))\n",
    "train_accuracy = metrics.accuracy_score(data_train_y, pred_train)\n",
    "test_accuracy = metrics.accuracy_score(data_test_y, pred_test)\n",
    "print(classification_report(data_test_y,pred_test))\n",
    "\n",
    "model_output = model_output.append(pd.Series({'Model' : 'AdaBoost w Linear SVC', 'Train_Accuracy' : train_accuracy, \n",
    "                                              'Test_Accuracy' : test_accuracy}),ignore_index=True)"
   ]
  },
  {
   "cell_type": "code",
   "execution_count": 76,
   "metadata": {},
   "outputs": [
    {
     "data": {
      "text/html": [
       "<div>\n",
       "<style scoped>\n",
       "    .dataframe tbody tr th:only-of-type {\n",
       "        vertical-align: middle;\n",
       "    }\n",
       "\n",
       "    .dataframe tbody tr th {\n",
       "        vertical-align: top;\n",
       "    }\n",
       "\n",
       "    .dataframe thead th {\n",
       "        text-align: right;\n",
       "    }\n",
       "</style>\n",
       "<table border=\"1\" class=\"dataframe\">\n",
       "  <thead>\n",
       "    <tr style=\"text-align: right;\">\n",
       "      <th></th>\n",
       "      <th>Model</th>\n",
       "      <th>Train_Accuracy</th>\n",
       "      <th>Test_Accuracy</th>\n",
       "    </tr>\n",
       "  </thead>\n",
       "  <tbody>\n",
       "    <tr>\n",
       "      <td>0</td>\n",
       "      <td>SVM Linear</td>\n",
       "      <td>0.929977</td>\n",
       "      <td>0.891247</td>\n",
       "    </tr>\n",
       "    <tr>\n",
       "      <td>1</td>\n",
       "      <td>SVM RBF</td>\n",
       "      <td>0.949817</td>\n",
       "      <td>0.885057</td>\n",
       "    </tr>\n",
       "    <tr>\n",
       "      <td>2</td>\n",
       "      <td>Decision Tree</td>\n",
       "      <td>0.989330</td>\n",
       "      <td>0.849691</td>\n",
       "    </tr>\n",
       "    <tr>\n",
       "      <td>3</td>\n",
       "      <td>Logistic Regression</td>\n",
       "      <td>0.935812</td>\n",
       "      <td>0.894783</td>\n",
       "    </tr>\n",
       "    <tr>\n",
       "      <td>4</td>\n",
       "      <td>Random Forest</td>\n",
       "      <td>0.993831</td>\n",
       "      <td>0.883289</td>\n",
       "    </tr>\n",
       "    <tr>\n",
       "      <td>5</td>\n",
       "      <td>KNN</td>\n",
       "      <td>1.000000</td>\n",
       "      <td>0.872679</td>\n",
       "    </tr>\n",
       "    <tr>\n",
       "      <td>6</td>\n",
       "      <td>SVM with Bagging</td>\n",
       "      <td>0.924308</td>\n",
       "      <td>0.878868</td>\n",
       "    </tr>\n",
       "    <tr>\n",
       "      <td>7</td>\n",
       "      <td>SVM-RBF with Bagging</td>\n",
       "      <td>0.931811</td>\n",
       "      <td>0.877100</td>\n",
       "    </tr>\n",
       "    <tr>\n",
       "      <td>8</td>\n",
       "      <td>Decision Tree with Bagging</td>\n",
       "      <td>0.996999</td>\n",
       "      <td>0.881521</td>\n",
       "    </tr>\n",
       "    <tr>\n",
       "      <td>9</td>\n",
       "      <td>Logistic Reg with Bagging</td>\n",
       "      <td>0.923641</td>\n",
       "      <td>0.879752</td>\n",
       "    </tr>\n",
       "    <tr>\n",
       "      <td>10</td>\n",
       "      <td>RF with Bagging</td>\n",
       "      <td>0.982494</td>\n",
       "      <td>0.874447</td>\n",
       "    </tr>\n",
       "    <tr>\n",
       "      <td>11</td>\n",
       "      <td>KNN with Bagging</td>\n",
       "      <td>1.000000</td>\n",
       "      <td>0.882405</td>\n",
       "    </tr>\n",
       "    <tr>\n",
       "      <td>12</td>\n",
       "      <td>Gradient Boosting</td>\n",
       "      <td>0.959153</td>\n",
       "      <td>0.866490</td>\n",
       "    </tr>\n",
       "  </tbody>\n",
       "</table>\n",
       "</div>"
      ],
      "text/plain": [
       "                         Model  Train_Accuracy  Test_Accuracy\n",
       "0                   SVM Linear        0.929977       0.891247\n",
       "1                      SVM RBF        0.949817       0.885057\n",
       "2                Decision Tree        0.989330       0.849691\n",
       "3          Logistic Regression        0.935812       0.894783\n",
       "4                Random Forest        0.993831       0.883289\n",
       "5                          KNN        1.000000       0.872679\n",
       "6             SVM with Bagging        0.924308       0.878868\n",
       "7         SVM-RBF with Bagging        0.931811       0.877100\n",
       "8   Decision Tree with Bagging        0.996999       0.881521\n",
       "9    Logistic Reg with Bagging        0.923641       0.879752\n",
       "10             RF with Bagging        0.982494       0.874447\n",
       "11            KNN with Bagging        1.000000       0.882405\n",
       "12           Gradient Boosting        0.959153       0.866490"
      ]
     },
     "execution_count": 76,
     "metadata": {},
     "output_type": "execute_result"
    }
   ],
   "source": [
    "model_output"
   ]
  },
  {
   "cell_type": "markdown",
   "metadata": {},
   "source": [
    "### Conclusion\n",
    "\n"
   ]
  },
  {
   "cell_type": "markdown",
   "metadata": {},
   "source": [
    "The best classification model for this dataset is logistic regression. It gives the highest test accuracy compared to all other models."
   ]
  }
 ],
 "metadata": {
  "kernelspec": {
   "display_name": "Python 3",
   "language": "python",
   "name": "python3"
  },
  "language_info": {
   "codemirror_mode": {
    "name": "ipython",
    "version": 3
   },
   "file_extension": ".py",
   "mimetype": "text/x-python",
   "name": "python",
   "nbconvert_exporter": "python",
   "pygments_lexer": "ipython3",
   "version": "3.7.4"
  }
 },
 "nbformat": 4,
 "nbformat_minor": 2
}
